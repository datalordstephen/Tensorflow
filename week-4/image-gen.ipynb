{
 "cells": [
  {
   "cell_type": "code",
   "execution_count": 7,
   "metadata": {},
   "outputs": [],
   "source": [
    "from tensorflow import keras\n",
    "from keras.preprocessing.image import ImageDataGenerator\n",
    "import numpy as np\n",
    "from keras.utils import load_img, img_to_array\n",
    "import wget\n",
    "import zipfile\n",
    "import os"
   ]
  },
  {
   "cell_type": "code",
   "execution_count": 3,
   "metadata": {},
   "outputs": [],
   "source": [
    "# using their dataset\n",
    "train = wget.download(\"https://storage.googleapis.com/tensorflow-1-public/course2/week3/horse-or-human.zip\", \"data/\")\n",
    "\n",
    "# using their validation data\n",
    "val = wget.download(\"https://storage.googleapis.com/tensorflow-1-public/course2/week3/validation-horse-or-human.zip\", \"data/\")"
   ]
  },
  {
   "cell_type": "code",
   "execution_count": 4,
   "metadata": {},
   "outputs": [
    {
     "name": "stdout",
     "output_type": "stream",
     "text": [
      "Train: data//horse-or-human.zip\n",
      "Val: data//validation-horse-or-human.zip\n"
     ]
    }
   ],
   "source": [
    "print(\"Train:\", train)\n",
    "print(\"Val:\", val)"
   ]
  },
  {
   "cell_type": "code",
   "execution_count": 5,
   "metadata": {},
   "outputs": [],
   "source": [
    "# Unzip training set\n",
    "local_zip = 'data/horse-or-human.zip'\n",
    "zip_ref = zipfile.ZipFile(local_zip, 'r')\n",
    "zip_ref.extractall('data/horse-or-human')\n",
    "\n",
    "# Unzip validation set\n",
    "local_zip = 'data/validation-horse-or-human.zip'\n",
    "zip_ref = zipfile.ZipFile(local_zip, 'r')\n",
    "zip_ref.extractall('data/validation-horse-or-human')\n",
    "\n",
    "zip_ref.close()"
   ]
  },
  {
   "cell_type": "code",
   "execution_count": 24,
   "metadata": {},
   "outputs": [],
   "source": [
    "train_dir = os.path.join(\"data/horse-or-human/\")\n",
    "val_dir = os.path.join(\"data/validation-horse-or-human/\")"
   ]
  },
  {
   "cell_type": "code",
   "execution_count": 25,
   "metadata": {},
   "outputs": [
    {
     "name": "stdout",
     "output_type": "stream",
     "text": [
      "Found 1027 images belonging to 2 classes.\n",
      "Found 256 images belonging to 2 classes.\n"
     ]
    }
   ],
   "source": [
    "# create datagenerators for train and validation datasets\n",
    "generator = ImageDataGenerator(rescale=1./255)\n",
    "\n",
    "train_datagen = generator.flow_from_directory(\n",
    "    directory=train_dir,\n",
    "    target_size=(256,256),\n",
    "    batch_size=128,\n",
    "    class_mode=\"binary\"\n",
    ")\n",
    "\n",
    "val_datagen = generator.flow_from_directory(\n",
    "    directory=val_dir,\n",
    "    target_size=(256,256),\n",
    "    batch_size=32,\n",
    "    class_mode=\"binary\"\n",
    ")"
   ]
  },
  {
   "cell_type": "code",
   "execution_count": 26,
   "metadata": {},
   "outputs": [
    {
     "name": "stdout",
     "output_type": "stream",
     "text": [
      "Model: \"sequential_4\"\n",
      "_________________________________________________________________\n",
      " Layer (type)                Output Shape              Param #   \n",
      "=================================================================\n",
      " conv2d_19 (Conv2D)          (None, 254, 254, 16)      448       \n",
      "                                                                 \n",
      " max_pooling2d_19 (MaxPoolin  (None, 127, 127, 16)     0         \n",
      " g2D)                                                            \n",
      "                                                                 \n",
      " conv2d_20 (Conv2D)          (None, 125, 125, 32)      4640      \n",
      "                                                                 \n",
      " max_pooling2d_20 (MaxPoolin  (None, 62, 62, 32)       0         \n",
      " g2D)                                                            \n",
      "                                                                 \n",
      " conv2d_21 (Conv2D)          (None, 60, 60, 64)        18496     \n",
      "                                                                 \n",
      " max_pooling2d_21 (MaxPoolin  (None, 30, 30, 64)       0         \n",
      " g2D)                                                            \n",
      "                                                                 \n",
      " conv2d_22 (Conv2D)          (None, 28, 28, 64)        36928     \n",
      "                                                                 \n",
      " max_pooling2d_22 (MaxPoolin  (None, 14, 14, 64)       0         \n",
      " g2D)                                                            \n",
      "                                                                 \n",
      " conv2d_23 (Conv2D)          (None, 12, 12, 64)        36928     \n",
      "                                                                 \n",
      " max_pooling2d_23 (MaxPoolin  (None, 6, 6, 64)         0         \n",
      " g2D)                                                            \n",
      "                                                                 \n",
      " flatten_4 (Flatten)         (None, 2304)              0         \n",
      "                                                                 \n",
      " dense_8 (Dense)             (None, 512)               1180160   \n",
      "                                                                 \n",
      " dense_9 (Dense)             (None, 1)                 513       \n",
      "                                                                 \n",
      "=================================================================\n",
      "Total params: 1,278,113\n",
      "Trainable params: 1,278,113\n",
      "Non-trainable params: 0\n",
      "_________________________________________________________________\n"
     ]
    }
   ],
   "source": [
    "# building out the model with 4 conv2d + maxpool layers, and a final relu + sigmoid layer\n",
    "model = keras.Sequential([\n",
    "    keras.layers.Conv2D(16, (3,3), activation=\"relu\", input_shape=(256,256,3)),\n",
    "    keras.layers.MaxPool2D(2,2),\n",
    "    keras.layers.Conv2D(32, (3,3), activation=\"relu\"),\n",
    "    keras.layers.MaxPool2D(2,2),\n",
    "    keras.layers.Conv2D(64, (3,3), activation=\"relu\"),\n",
    "    keras.layers.MaxPool2D(2,2),\n",
    "    keras.layers.Conv2D(64, (3,3), activation=\"relu\"),\n",
    "    keras.layers.MaxPool2D(2,2),\n",
    "    keras.layers.Conv2D(64, (3,3), activation=\"relu\"),\n",
    "    keras.layers.MaxPool2D(2,2),\n",
    "    keras.layers.Flatten(),\n",
    "    keras.layers.Dense(512, activation=\"relu\"),\n",
    "    keras.layers.Dense(1, activation=\"sigmoid\")\n",
    "])\n",
    "\n",
    "# view summary of model\n",
    "model.summary()"
   ]
  },
  {
   "cell_type": "code",
   "execution_count": 27,
   "metadata": {},
   "outputs": [],
   "source": [
    "# compile and train \n",
    "model.compile(\n",
    "    loss=keras.losses.binary_crossentropy,\n",
    "    optimizer=keras.optimizers.Adam(),\n",
    "    metrics=[\"accuracy\"]\n",
    ")"
   ]
  },
  {
   "cell_type": "code",
   "execution_count": 32,
   "metadata": {},
   "outputs": [
    {
     "name": "stdout",
     "output_type": "stream",
     "text": [
      "Epoch 1/15\n",
      "9/9 [==============================] - 122s 14s/step - loss: 0.6881 - accuracy: 0.5482 - val_loss: 0.5817 - val_accuracy: 0.8398\n",
      "Epoch 2/15\n",
      "9/9 [==============================] - 139s 17s/step - loss: 0.4084 - accuracy: 0.8520 - val_loss: 1.4043 - val_accuracy: 0.7344\n",
      "Epoch 3/15\n",
      "9/9 [==============================] - 127s 14s/step - loss: 0.2245 - accuracy: 0.9085 - val_loss: 1.3288 - val_accuracy: 0.7891\n",
      "Epoch 4/15\n",
      "9/9 [==============================] - 101s 11s/step - loss: 0.1453 - accuracy: 0.9367 - val_loss: 1.5273 - val_accuracy: 0.8438\n",
      "Epoch 5/15\n",
      "9/9 [==============================] - 193s 22s/step - loss: 0.0874 - accuracy: 0.9679 - val_loss: 1.7234 - val_accuracy: 0.8047\n",
      "Epoch 6/15\n",
      "9/9 [==============================] - 79s 9s/step - loss: 0.0688 - accuracy: 0.9747 - val_loss: 2.3715 - val_accuracy: 0.7695\n",
      "Epoch 7/15\n",
      "9/9 [==============================] - 198s 23s/step - loss: 0.0731 - accuracy: 0.9708 - val_loss: 2.6854 - val_accuracy: 0.8281\n",
      "Epoch 8/15\n",
      "9/9 [==============================] - 165s 19s/step - loss: 0.0435 - accuracy: 0.9844 - val_loss: 2.0560 - val_accuracy: 0.8281\n",
      "Epoch 9/15\n",
      "9/9 [==============================] - 164s 17s/step - loss: 0.0309 - accuracy: 0.9883 - val_loss: 1.5718 - val_accuracy: 0.8320\n",
      "Epoch 10/15\n",
      "9/9 [==============================] - 200s 23s/step - loss: 0.0283 - accuracy: 0.9873 - val_loss: 2.2319 - val_accuracy: 0.8242\n",
      "Epoch 11/15\n",
      "9/9 [==============================] - 76s 8s/step - loss: 0.0125 - accuracy: 0.9961 - val_loss: 2.6797 - val_accuracy: 0.8242\n",
      "Epoch 12/15\n",
      "9/9 [==============================] - 149s 17s/step - loss: 0.0076 - accuracy: 0.9990 - val_loss: 2.3427 - val_accuracy: 0.8320\n",
      "Epoch 13/15\n",
      "9/9 [==============================] - 98s 11s/step - loss: 0.0074 - accuracy: 0.9971 - val_loss: 2.4369 - val_accuracy: 0.8359\n",
      "Epoch 14/15\n",
      "9/9 [==============================] - 85s 8s/step - loss: 0.0038 - accuracy: 0.9981 - val_loss: 3.2325 - val_accuracy: 0.8164\n",
      "Epoch 15/15\n",
      "9/9 [==============================] - 72s 8s/step - loss: 0.0029 - accuracy: 0.9990 - val_loss: 3.4941 - val_accuracy: 0.8086\n"
     ]
    }
   ],
   "source": [
    "\n",
    "# adding a callback\n",
    "class myCallback(keras.callbacks.Callback):\n",
    "    def on_epoch_end(self, epoch, logs={}):\n",
    "        if (logs.get(\"accuracy\")) >= 0.99:\n",
    "            print(\"\\nStopping training as model has hit 99% accuracy\")\n",
    "            self.model.stop_training = True\n",
    "\n",
    "history = model.fit(\n",
    "    train_datagen,\n",
    "    # steps_per_epoch=22,\n",
    "    epochs = 15,\n",
    "    validation_data = val_datagen\n",
    ")"
   ]
  },
  {
   "cell_type": "code",
   "execution_count": 33,
   "metadata": {},
   "outputs": [
    {
     "data": {
      "text/plain": [
       "{'verbose': 1, 'epochs': 15, 'steps': 9}"
      ]
     },
     "execution_count": 33,
     "metadata": {},
     "output_type": "execute_result"
    }
   ],
   "source": [
    "history.params"
   ]
  },
  {
   "cell_type": "code",
   "execution_count": 39,
   "metadata": {},
   "outputs": [
    {
     "name": "stdout",
     "output_type": "stream",
     "text": [
      "Shape: (256, 256, 3)\n",
      "Post expansion: (1, 256, 256, 3)\n",
      "Images: (1, 256, 256, 3)\n",
      "1/1 [==============================] - 0s 263ms/step\n",
      "[[9.091409e-09]]\n",
      "data/horses-1414889_640.jpg is a horse\n"
     ]
    }
   ],
   "source": [
    "path = \"data/horses-1414889_640.jpg\"\n",
    "\n",
    "img = load_img(path, target_size=(256, 256))\n",
    "x = img_to_array(img)\n",
    "print(\"Shape:\",x.shape)\n",
    "x /= 255\n",
    "x = np.expand_dims(x, axis=0)\n",
    "print(\"Post expansion:\",x.shape)\n",
    "\n",
    "images = np.vstack([x])\n",
    "print(\"Images:\", images.shape)\n",
    "classes = model.predict(images, batch_size=10)\n",
    "print(classes)\n",
    "\n",
    "if classes[0]>0.5:\n",
    "    print(path + \" is a human\")\n",
    "else:\n",
    "    print(path + \" is a horse\")"
   ]
  },
  {
   "cell_type": "code",
   "execution_count": null,
   "metadata": {},
   "outputs": [],
   "source": []
  }
 ],
 "metadata": {
  "kernelspec": {
   "display_name": "Python 3",
   "language": "python",
   "name": "python3"
  },
  "language_info": {
   "codemirror_mode": {
    "name": "ipython",
    "version": 3
   },
   "file_extension": ".py",
   "mimetype": "text/x-python",
   "name": "python",
   "nbconvert_exporter": "python",
   "pygments_lexer": "ipython3",
   "version": "3.9.2"
  },
  "orig_nbformat": 4
 },
 "nbformat": 4,
 "nbformat_minor": 2
}
