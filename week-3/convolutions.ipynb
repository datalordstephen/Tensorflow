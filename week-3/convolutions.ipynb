{
 "cells": [
  {
   "cell_type": "code",
   "execution_count": 1,
   "metadata": {},
   "outputs": [],
   "source": [
    "import matplotlib.pyplot as plt\n",
    "import random\n",
    "import tensorflow as tf\n",
    "from tensorflow import keras\n",
    "import numpy as np"
   ]
  },
  {
   "cell_type": "code",
   "execution_count": 2,
   "metadata": {},
   "outputs": [],
   "source": [
    "# mapping number values to classes\n",
    "target_map = {\n",
    "    \"0\": \"T-shirt/top\",\n",
    "    \"1\": \"Trouser\",\n",
    "    \"2\": \"Pullover\",\n",
    "    \"3\": \"Dress\",\n",
    "    \"4\": \"Coat\",\n",
    "    \"5\": \"Sandal\",\n",
    "    \"6\": \"Shirt\",\n",
    "    \"7\": \"Sneaker\",\n",
    "    \"8\": \"Bag\",\n",
    "    \"9\": \"Ankle boot\"\n",
    "}\n",
    "\n",
    "# getting the train and test data\n",
    "fashion_mnist = keras.datasets.fashion_mnist\n",
    "(x_train, y_train), (x_test, y_test) = fashion_mnist.load_data()"
   ]
  },
  {
   "cell_type": "code",
   "execution_count": 3,
   "metadata": {},
   "outputs": [],
   "source": [
    "# normalizing the images\n",
    "x_train = x_train/255.0\n",
    "x_test = x_test/255.0"
   ]
  },
  {
   "attachments": {},
   "cell_type": "markdown",
   "metadata": {},
   "source": [
    "Convultions work by passing filters over images, and extracting important information from them."
   ]
  },
  {
   "cell_type": "code",
   "execution_count": 4,
   "metadata": {},
   "outputs": [
    {
     "name": "stdout",
     "output_type": "stream",
     "text": [
      "Model: \"sequential\"\n",
      "_________________________________________________________________\n",
      " Layer (type)                Output Shape              Param #   \n",
      "=================================================================\n",
      " conv2d (Conv2D)             (None, 26, 26, 64)        640       \n",
      "                                                                 \n",
      " max_pooling2d (MaxPooling2D  (None, 13, 13, 64)       0         \n",
      " )                                                               \n",
      "                                                                 \n",
      " conv2d_1 (Conv2D)           (None, 11, 11, 64)        36928     \n",
      "                                                                 \n",
      " max_pooling2d_1 (MaxPooling  (None, 5, 5, 64)         0         \n",
      " 2D)                                                             \n",
      "                                                                 \n",
      " flatten (Flatten)           (None, 1600)              0         \n",
      "                                                                 \n",
      " dense (Dense)               (None, 128)               204928    \n",
      "                                                                 \n",
      " dense_1 (Dense)             (None, 10)                1290      \n",
      "                                                                 \n",
      "=================================================================\n",
      "Total params: 243,786\n",
      "Trainable params: 243,786\n",
      "Non-trainable params: 0\n",
      "_________________________________________________________________\n"
     ]
    }
   ],
   "source": [
    "# creating a model with Convulation and pooling layers\n",
    "model = keras.Sequential([\n",
    "    keras.layers.Conv2D(filters=64, kernel_size=(3,3), activation=\"relu\", input_shape=(28,28,1)),\n",
    "    keras.layers.MaxPool2D(pool_size=(2,2)),\n",
    "    keras.layers.Conv2D(filters=64, kernel_size=(3,3), activation=\"relu\", input_shape=(28,28,1)),\n",
    "    keras.layers.MaxPooling2D(pool_size=(2,2)),\n",
    "    keras.layers.Flatten(),\n",
    "    keras.layers.Dense(128, activation=\"relu\"),\n",
    "    keras.layers.Dense(10, activation=\"softmax\"),\n",
    "])\n",
    "\n",
    "# print summary of model\n",
    "model.summary()"
   ]
  },
  {
   "cell_type": "code",
   "execution_count": 7,
   "metadata": {},
   "outputs": [
    {
     "name": "stdout",
     "output_type": "stream",
     "text": [
      "TRAINING: \n",
      "\n",
      "Epoch 1/5\n",
      "1875/1875 [==============================] - 203s 107ms/step - loss: 0.4050 - accuracy: 0.8515\n",
      "Epoch 2/5\n",
      "1875/1875 [==============================] - 151s 81ms/step - loss: 0.2853 - accuracy: 0.8950\n",
      "Epoch 3/5\n",
      "1875/1875 [==============================] - 155s 82ms/step - loss: 0.2418 - accuracy: 0.9097\n",
      "Epoch 4/5\n",
      "1875/1875 [==============================] - 207s 111ms/step - loss: 0.2089 - accuracy: 0.9230\n",
      "Epoch 5/5\n",
      "1875/1875 [==============================] - 213s 113ms/step - loss: 0.1826 - accuracy: 0.9324\n",
      "\n",
      "TESTING: \n",
      "313/313 [==============================] - 13s 37ms/step - loss: 0.2510 - accuracy: 0.9125\n"
     ]
    }
   ],
   "source": [
    "# compile model and fit on data\n",
    "model.compile(\n",
    "    loss = keras.losses.sparse_categorical_crossentropy,\n",
    "    optimizer = keras.optimizers.Adam(),\n",
    "    metrics = [\"accuracy\"]\n",
    ")\n",
    "\n",
    "# fit on fashion mnist data for 5 epochs\n",
    "print(\"TRAINING: \\n\")\n",
    "model.fit(x_train, y_train, epochs = 5)\n",
    "\n",
    "# evaluate on test data\n",
    "print(\"\\nTESTING: \")\n",
    "eval_loss, eval_accuracy = model.evaluate(x_test, y_test)"
   ]
  },
  {
   "cell_type": "code",
   "execution_count": null,
   "metadata": {},
   "outputs": [],
   "source": []
  }
 ],
 "metadata": {
  "kernelspec": {
   "display_name": "Python 3",
   "language": "python",
   "name": "python3"
  },
  "language_info": {
   "codemirror_mode": {
    "name": "ipython",
    "version": 3
   },
   "file_extension": ".py",
   "mimetype": "text/x-python",
   "name": "python",
   "nbconvert_exporter": "python",
   "pygments_lexer": "ipython3",
   "version": "3.9.2"
  },
  "orig_nbformat": 4
 },
 "nbformat": 4,
 "nbformat_minor": 2
}
