{
 "cells": [
  {
   "cell_type": "code",
   "execution_count": 18,
   "metadata": {},
   "outputs": [],
   "source": [
    "import matplotlib.pyplot as plt\n",
    "import random\n",
    "import tensorflow as tf\n",
    "from tensorflow import keras\n",
    "import numpy as np\n",
    "import warnings\n",
    "warnings.filterwarnings(\"ignore\")"
   ]
  },
  {
   "cell_type": "code",
   "execution_count": 19,
   "metadata": {},
   "outputs": [],
   "source": [
    "# mapping number values to classes\n",
    "target_map = {\n",
    "    \"0\": \"T-shirt/top\",\n",
    "    \"1\": \"Trouser\",\n",
    "    \"2\": \"Pullover\",\n",
    "    \"3\": \"Dress\",\n",
    "    \"4\": \"Coat\",\n",
    "    \"5\": \"Sandal\",\n",
    "    \"6\": \"Shirt\",\n",
    "    \"7\": \"Sneaker\",\n",
    "    \"8\": \"Bag\",\n",
    "    \"9\": \"Ankle boot\"\n",
    "}\n",
    "\n",
    "# getting the train and test data\n",
    "fashion_mnist = keras.datasets.fashion_mnist\n",
    "(x_train, y_train), (x_test, y_test) = fashion_mnist.load_data()"
   ]
  },
  {
   "cell_type": "code",
   "execution_count": 20,
   "metadata": {},
   "outputs": [
    {
     "name": "stdout",
     "output_type": "stream",
     "text": [
      "x train shape:  (60000, 28, 28)\n",
      "y train shape:  (60000,)\n",
      "x test shape:  (10000, 28, 28)\n",
      "y test shape:  (10000,)\n"
     ]
    }
   ],
   "source": [
    "# get shapes\n",
    "print(\"x train shape: \", x_train.shape)\n",
    "print(\"y train shape: \", y_train.shape)\n",
    "print(\"x test shape: \", x_test.shape)\n",
    "print(\"y test shape: \", y_test.shape)"
   ]
  },
  {
   "cell_type": "code",
   "execution_count": 21,
   "metadata": {},
   "outputs": [
    {
     "data": {
      "image/png": "[encoded data removed]",
      "text/plain": [
       "<Figure size 432x288 with 1 Axes>"
      ]
     },
     "metadata": {
      "needs_background": "light"
     },
     "output_type": "display_data"
    }
   ],
   "source": [
    "# plotting a random image\n",
    "idx = random.randint(0, 59999)\n",
    "\n",
    "plt.imshow(x_train[idx], cmap=\"Greys\")\n",
    "plt.xlabel(f\"{y_train[idx]}\")\n",
    "plt.show()"
   ]
  },
  {
   "cell_type": "code",
   "execution_count": 22,
   "metadata": {},
   "outputs": [],
   "source": [
    "# normalizing the images\n",
    "x_train = x_train/255.0\n",
    "x_test = x_test/255.0"
   ]
  },
  {
   "cell_type": "code",
   "execution_count": 23,
   "metadata": {},
   "outputs": [],
   "source": [
    "# creating model containing a flattening layer, a dense layer and an output layer with the softmax activation function\n",
    "model = keras.Sequential([\n",
    "    keras.layers.Flatten(),\n",
    "    keras.layers.Dense(128, activation=\"relu\"),\n",
    "    keras.layers.Dense(len(np.unique(y_train)), \"softmax\")\n",
    "])"
   ]
  },
  {
   "cell_type": "code",
   "execution_count": 24,
   "metadata": {},
   "outputs": [],
   "source": [
    "# compile model\n",
    "model.compile(\n",
    "    optimizer = keras.optimizers.Adam(),\n",
    "    loss= keras.losses.sparse_categorical_crossentropy,\n",
    "    metrics=[\"accuracy\"]\n",
    ")"
   ]
  },
  {
   "cell_type": "code",
   "execution_count": 25,
   "metadata": {},
   "outputs": [
    {
     "name": "stdout",
     "output_type": "stream",
     "text": [
      "Epoch 1/5\n"
     ]
    },
    {
     "name": "stdout",
     "output_type": "stream",
     "text": [
      "1875/1875 [==============================] - 8s 4ms/step - loss: 0.4970 - accuracy: 0.8247\n",
      "Epoch 2/5\n",
      "1875/1875 [==============================] - 14s 8ms/step - loss: 0.3758 - accuracy: 0.8637\n",
      "Epoch 3/5\n",
      "1875/1875 [==============================] - 20s 11ms/step - loss: 0.3363 - accuracy: 0.8769\n",
      "Epoch 4/5\n",
      "1875/1875 [==============================] - 16s 9ms/step - loss: 0.3136 - accuracy: 0.8851\n",
      "Epoch 5/5\n",
      "1875/1875 [==============================] - 18s 10ms/step - loss: 0.2962 - accuracy: 0.8917\n"
     ]
    },
    {
     "data": {
      "text/plain": [
       "<keras.callbacks.History at 0x23f4d20d910>"
      ]
     },
     "execution_count": 25,
     "metadata": {},
     "output_type": "execute_result"
    }
   ],
   "source": [
    "# train for 5 epochs \n",
    "model.fit(x_train, y_train, epochs=5)"
   ]
  },
  {
   "cell_type": "code",
   "execution_count": 26,
   "metadata": {},
   "outputs": [
    {
     "name": "stdout",
     "output_type": "stream",
     "text": [
      "313/313 [==============================] - 3s 5ms/step - loss: 0.3481 - accuracy: 0.8750\n",
      "Test loss:  0.34808605909347534\n",
      "Test accuracy:  0.875\n"
     ]
    }
   ],
   "source": [
    "# check how it fares on unseen data\n",
    "eval_loss, eval_accuracy = model.evaluate(x_test, y_test)\n",
    "print(\"Test loss: \", eval_loss)\n",
    "print(\"Test accuracy: \", eval_accuracy)"
   ]
  },
  {
   "cell_type": "code",
   "execution_count": 27,
   "metadata": {},
   "outputs": [
    {
     "name": "stdout",
     "output_type": "stream",
     "text": [
      "313/313 [==============================] - 2s 5ms/step\n"
     ]
    },
    {
     "data": {
      "text/plain": [
       "array([1.0165558e-06, 7.5457809e-09, 4.1971529e-07, 4.4451468e-07,\n",
       "       1.4611651e-06, 3.2625273e-03, 4.5867041e-06, 1.1842269e-02,\n",
       "       3.6909350e-05, 9.8485041e-01], dtype=float32)"
      ]
     },
     "execution_count": 27,
     "metadata": {},
     "output_type": "execute_result"
    }
   ],
   "source": [
    "predictions = model.predict(x_test)\n",
    "predictions[0]"
   ]
  },
  {
   "cell_type": "code",
   "execution_count": 28,
   "metadata": {},
   "outputs": [
    {
     "data": {
      "text/plain": [
       "9"
      ]
     },
     "execution_count": 28,
     "metadata": {},
     "output_type": "execute_result"
    }
   ],
   "source": [
    "class_idx = np.argmax(predictions[0])\n",
    "class_idx"
   ]
  },
  {
   "cell_type": "code",
   "execution_count": 29,
   "metadata": {},
   "outputs": [
    {
     "data": {
      "text/plain": [
       "Text(0, 0.5, 'Actual class: Ankle boot')"
      ]
     },
     "execution_count": 29,
     "metadata": {},
     "output_type": "execute_result"
    },
    {
     "data": {
      "image/png": "[encoded data removed]",
      "text/plain": [
       "<Figure size 432x288 with 1 Axes>"
      ]
     },
     "metadata": {
      "needs_background": "light"
     },
     "output_type": "display_data"
    }
   ],
   "source": [
    "cat = target_map[str(class_idx)]\n",
    "\n",
    "plt.imshow(x_test[0])\n",
    "plt.xlabel(f\"Predicted class: {cat}\")\n",
    "plt.ylabel(f\"Actual class: {target_map[str(y_test[0])]}\")"
   ]
  },
  {
   "cell_type": "code",
   "execution_count": null,
   "metadata": {},
   "outputs": [],
   "source": [
    "# Tinkering\n",
    "fmnist = tf.keras.datasets.fashion_mnist\n",
    "\n",
    "(training_images, training_labels) ,  (test_images, test_labels) = fmnist.load_data()\n",
    "\n",
    "training_images = training_images/255.0\n",
    "test_images = test_images/255.0\n",
    "\n",
    "model = tf.keras.models.Sequential([tf.keras.layers.Flatten(),\n",
    "                                    tf.keras.layers.Dense(64, activation=tf.nn.relu),\n",
    "                                    tf.keras.layers.Dense(10, activation=tf.nn.softmax)])\n",
    "\n",
    "model.compile(optimizer = 'adam',\n",
    "              loss = 'sparse_categorical_crossentropy',\n",
    "              metrics=[\"accuracy\"]\n",
    "        )\n",
    "\n",
    "model.fit(training_images, training_labels, epochs=5)\n",
    "\n",
    "model.evaluate(test_images, test_labels)\n",
    "\n",
    "classifications = model.predict(test_images)\n",
    "\n",
    "print(classifications[0])\n",
    "print(test_labels[0])"
   ]
  },
  {
   "cell_type": "code",
   "execution_count": 40,
   "metadata": {},
   "outputs": [
    {
     "name": "stdout",
     "output_type": "stream",
     "text": [
      "Epoch 1/10\n",
      "1875/1875 [==============================] - 15s 7ms/step - loss: 0.5199 - accuracy: 0.8195\n",
      "Epoch 2/10\n",
      "1873/1875 [============================>.] - ETA: 0s - loss: 0.3916 - accuracy: 0.8594\n",
      "Stopping at epoch 2 as accuracy has reached 80%\n",
      "\n",
      "1875/1875 [==============================] - 21s 11ms/step - loss: 0.3915 - accuracy: 0.8594\n",
      "313/313 [==============================] - 2s 4ms/step - loss: 0.3937 - accuracy: 0.8613\n",
      "313/313 [==============================] - 2s 4ms/step\n",
      "[1.24602866e-05 7.38183417e-08 1.14015405e-04 1.01543549e-06\n",
      " 1.81222458e-05 6.73634335e-02 2.57413340e-05 1.31975308e-01\n",
      " 1.11683272e-03 7.99372971e-01]\n",
      "9\n"
     ]
    }
   ],
   "source": [
    "# adding callbacks\n",
    "fmnist = tf.keras.datasets.fashion_mnist\n",
    "\n",
    "(training_images, training_labels) ,  (test_images, test_labels) = fmnist.load_data()\n",
    "\n",
    "training_images = training_images/255.0\n",
    "test_images = test_images/255.0\n",
    "\n",
    "# creating a custom callback that inherits from the base callback class and calls a function after every epoch\n",
    "class myCallback(keras.callbacks.Callback):\n",
    "    def on_epoch_end(self, epoch, logs={}):\n",
    "            '''\n",
    "            Halts the training after reaching 85 percent accuracy\n",
    "\n",
    "            Args:\n",
    "            epoch (integer) - index of epoch\n",
    "            logs (dict) - metric results from the training epoch\n",
    "            '''\n",
    "            # check if accuracy greater than 85\n",
    "            if (logs.get(\"accuracy\") >= 0.85):\n",
    "                \n",
    "                # end training process\n",
    "                print(f\"\\nStopping at epoch {epoch+1} as accuracy has reached 85%\\n\")\n",
    "                self.model.stop_training = True\n",
    "\n",
    "callback = myCallback()\n",
    "\n",
    "model = tf.keras.models.Sequential([tf.keras.layers.Flatten(),\n",
    "                                    tf.keras.layers.Dense(64, activation=tf.nn.relu),\n",
    "                                    tf.keras.layers.Dense(10, activation=tf.nn.softmax)])\n",
    "\n",
    "model.compile(optimizer = 'adam',\n",
    "              loss = 'sparse_categorical_crossentropy',\n",
    "              metrics=[\"accuracy\"]\n",
    "        )\n",
    "\n",
    "model.fit(training_images, training_labels, epochs=10, callbacks=[callback])\n",
    "\n",
    "model.evaluate(test_images, test_labels)\n",
    "\n",
    "classifications = model.predict(test_images)\n",
    "\n",
    "print(classifications[0])\n",
    "print(test_labels[0])"
   ]
  },
  {
   "attachments": {},
   "cell_type": "markdown",
   "metadata": {},
   "source": [
    "### Notes\n",
    "\n",
    "1. Increasing the number of units in the hidden layer makes the model take longer to run due to more calculations, but it boosts the accuracy.\n",
    "\n",
    "2. Normalizing reduces the range of pixel values, and makes the model more accurate\n",
    "\n",
    "3. Callbacks are a great way to prevent overfitting. "
   ]
  }
 ],
 "metadata": {
  "kernelspec": {
   "display_name": "Python 3",
   "language": "python",
   "name": "python3"
  },
  "language_info": {
   "codemirror_mode": {
    "name": "ipython",
    "version": 3
   },
   "file_extension": ".py",
   "mimetype": "text/x-python",
   "name": "python",
   "nbconvert_exporter": "python",
   "pygments_lexer": "ipython3",
   "version": "3.9.2"
  },
  "orig_nbformat": 4
 },
 "nbformat": 4,
 "nbformat_minor": 2
}
